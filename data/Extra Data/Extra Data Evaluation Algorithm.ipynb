{
 "cells": [
  {
   "cell_type": "code",
   "execution_count": 1,
   "metadata": {},
   "outputs": [],
   "source": [
    "import numpy as np \n",
    "import pandas as pd\n",
    "import sklearn\n",
    "from sklearn.preprocessing import minmax_scale\n",
    "import sys\n",
    "import os\n",
    "import random \n",
    "\n",
    "# Load the submitted codes\n",
    "import submission_c0 as c0 # Cristin's algorithm 2020-01-23 12:24:41.577445+00:00 \n",
    "import submission_c1 as c1 # Cristin's algorithm 2020-01-22 04:42:14.732860+00:00\n",
    "import submission_j0 as j0 # John's algorithm 2020-02-05 15:07:31.838107+00:00\n",
    "import submission_j1 as j1 # John's algorithm 2020-01-14 07:31:21.625687+00:00\n"
   ]
  },
  {
   "cell_type": "code",
   "execution_count": 2,
   "metadata": {},
   "outputs": [],
   "source": [
    "\n",
    "def slide_window(target,algs,window=5): # sample 5 subsets from the dataset and test the algorithms\n",
    "    source_dir=\"./public_dat/\"+str(target)+\"/\"\n",
    "    try:\n",
    "        os.mkdir('./sliding_window/')\n",
    "    except :\n",
    "        pass\n",
    "    target_dir='./sliding_window/'\n",
    "    sub_entries=os.listdir(source_dir)\n",
    "    sub_entries.sort()\n",
    "    fragments=[]\n",
    "    if('.DS_Store' in sub_entries):\n",
    "        sub_entries.remove('.DS_Store')\n",
    "    scores=np.zeros(len(algs))\n",
    "    count=0\n",
    "    while(len(sub_entries)>1):\n",
    "        count+=1\n",
    "        sample=random.sample(sub_entries,window)\n",
    "        for i,file in enumerate(sample):\n",
    "            sub_entries.remove(file)\n",
    "            custom_data=pd.read_csv(source_dir+file,encoding='utf-8')\n",
    "\n",
    "            x=custom_data['x'].values\n",
    "            x = minmax_scale(x)\n",
    "            custom_data['x']=x.reshape(-1)\n",
    "            y=custom_data['y'].values\n",
    "            y = minmax_scale(y)\n",
    "            custom_data['y']=y.reshape(-1)\n",
    "            t=custom_data['t'].values\n",
    "            min_elem=t[0]\n",
    "            t=[x-min_elem for x in t]\n",
    "            custom_data['t']=t\n",
    "            custom_data=custom_data.rename(columns={0:\"t\",1:\"x\",2:\"y\"}) \n",
    "            custom_data.to_csv(target_dir+str(i)+\".csv\",index=False)\n",
    "            \n",
    "        for i,elem in enumerate(algs):\n",
    "            scores[i]+=elem(target_dir)\n",
    "            \n",
    "  \n",
    "    for w in range(len(scores)):\n",
    "        scores[w]=scores[w]/count\n",
    "    return scores"
   ]
  },
  {
   "cell_type": "markdown",
   "metadata": {},
   "source": [
    "## Cristin"
   ]
  },
  {
   "cell_type": "markdown",
   "metadata": {},
   "source": [
    "### Scoring Cristin's Algorithms"
   ]
  },
  {
   "cell_type": "markdown",
   "metadata": {},
   "source": [
    "#### Seal Diving Dataset"
   ]
  },
  {
   "cell_type": "code",
   "execution_count": 4,
   "metadata": {},
   "outputs": [
    {
     "data": {
      "text/plain": [
       "array([0.9175, 1.    ])"
      ]
     },
     "execution_count": 4,
     "metadata": {},
     "output_type": "execute_result"
    }
   ],
   "source": [
    "algs=[c0.predictor,c1.predictor]\n",
    "scores_cristin_seal=np.zeros(len(algs))\n",
    "for i in range(100):\n",
    "    scores_cristin_seal+=slide_window(\"10\",algs)\n",
    "scores_cristin_seal/=np.ones(len(algs))*100\n",
    "scores_cristin_seal"
   ]
  },
  {
   "cell_type": "markdown",
   "metadata": {},
   "source": [
    "#### Drone Dataset"
   ]
  },
  {
   "cell_type": "code",
   "execution_count": 3,
   "metadata": {},
   "outputs": [
    {
     "data": {
      "text/plain": [
       "array([1., 0.])"
      ]
     },
     "execution_count": 3,
     "metadata": {},
     "output_type": "execute_result"
    }
   ],
   "source": [
    "algs=[c0.predictor,c1.predictor]\n",
    "scores_cristin_drone=np.zeros(len(algs))\n",
    "for i in range(100):\n",
    "    scores_cristin_drone+=slide_window(\"11\",algs)\n",
    "scores_cristin_drone/=np.ones(len(algs))*100\n",
    "scores_cristin_drone=np.ones(len(algs))-scores_cristin_drone\n",
    "scores_cristin_drone"
   ]
  },
  {
   "cell_type": "markdown",
   "metadata": {},
   "source": [
    "## John"
   ]
  },
  {
   "cell_type": "markdown",
   "metadata": {},
   "source": [
    "### Scoring John's Algorithms"
   ]
  },
  {
   "cell_type": "markdown",
   "metadata": {},
   "source": [
    "#### Seal diving Dataset"
   ]
  },
  {
   "cell_type": "code",
   "execution_count": 5,
   "metadata": {},
   "outputs": [
    {
     "data": {
      "text/plain": [
       "array([0.17625, 0.70125])"
      ]
     },
     "execution_count": 5,
     "metadata": {},
     "output_type": "execute_result"
    }
   ],
   "source": [
    "algs=[j0.predictor,j1.predictor]\n",
    "scores_john_seal=np.zeros(len(algs))\n",
    "for i in range(100):\n",
    "    scores_john_seal+=slide_window(\"10\",algs)\n",
    "scores_john_seal/=np.ones(len(algs))*100\n",
    "scores_john_seal    "
   ]
  },
  {
   "cell_type": "markdown",
   "metadata": {},
   "source": [
    "#### Drone Dataset"
   ]
  },
  {
   "cell_type": "code",
   "execution_count": 6,
   "metadata": {},
   "outputs": [
    {
     "data": {
      "text/plain": [
       "array([0.97, 0.34])"
      ]
     },
     "execution_count": 6,
     "metadata": {},
     "output_type": "execute_result"
    }
   ],
   "source": [
    "algs=[j0.predictor,j1.predictor]\n",
    "scores_john_drone=np.zeros(len(algs))\n",
    "for i in range(100):\n",
    "    scores_john_drone+=slide_window(\"11\",algs)\n",
    "scores_john_drone/=np.ones(len(algs))*100\n",
    "scores_john_drone=np.ones(len(algs))-scores_john_drone\n",
    "scores_john_drone"
   ]
  },
  {
   "cell_type": "markdown",
   "metadata": {},
   "source": [
    "## Sum Up"
   ]
  },
  {
   "cell_type": "code",
   "execution_count": 7,
   "metadata": {},
   "outputs": [
    {
     "name": "stdout",
     "output_type": "stream",
     "text": [
      "Average score \n",
      "John: 0.546875\n",
      "Cristin: 0.729375\n"
     ]
    },
    {
     "data": {
      "text/html": [
       "<div>\n",
       "<style scoped>\n",
       "    .dataframe tbody tr th:only-of-type {\n",
       "        vertical-align: middle;\n",
       "    }\n",
       "\n",
       "    .dataframe tbody tr th {\n",
       "        vertical-align: top;\n",
       "    }\n",
       "\n",
       "    .dataframe thead th {\n",
       "        text-align: right;\n",
       "    }\n",
       "</style>\n",
       "<table border=\"1\" class=\"dataframe\">\n",
       "  <thead>\n",
       "    <tr style=\"text-align: right;\">\n",
       "      <th></th>\n",
       "      <th>submission</th>\n",
       "      <th>john drone</th>\n",
       "      <th>Cristin drone</th>\n",
       "      <th>john seal</th>\n",
       "      <th>Cristin seal</th>\n",
       "    </tr>\n",
       "  </thead>\n",
       "  <tbody>\n",
       "    <tr>\n",
       "      <td>0</td>\n",
       "      <td>0</td>\n",
       "      <td>0.970</td>\n",
       "      <td>1.0</td>\n",
       "      <td>0.17625</td>\n",
       "      <td>0.91750</td>\n",
       "    </tr>\n",
       "    <tr>\n",
       "      <td>1</td>\n",
       "      <td>1</td>\n",
       "      <td>0.340</td>\n",
       "      <td>0.0</td>\n",
       "      <td>0.70125</td>\n",
       "      <td>1.00000</td>\n",
       "    </tr>\n",
       "    <tr>\n",
       "      <td>2</td>\n",
       "      <td>average</td>\n",
       "      <td>0.655</td>\n",
       "      <td>0.5</td>\n",
       "      <td>0.43875</td>\n",
       "      <td>0.95875</td>\n",
       "    </tr>\n",
       "  </tbody>\n",
       "</table>\n",
       "</div>"
      ],
      "text/plain": [
       "  submission  john drone   Cristin drone   john seal   Cristin seal \n",
       "0          0        0.970             1.0     0.17625        0.91750\n",
       "1          1        0.340             0.0     0.70125        1.00000\n",
       "2    average        0.655             0.5     0.43875        0.95875"
      ]
     },
     "execution_count": 7,
     "metadata": {},
     "output_type": "execute_result"
    }
   ],
   "source": [
    "john_drone=np.append(scores_john_drone,np.average(scores_john_drone[:2]))\n",
    "christin_drone=np.append(scores_cristin_drone,np.average(scores_cristin_drone[:2]))\n",
    "\n",
    "john_seal=np.append(scores_john_seal,np.average(scores_john_seal[:2]))\n",
    "christin_seal=np.append(scores_cristin_seal,np.average(scores_cristin_seal[:2]))\n",
    "\n",
    "\n",
    "d = {'submission':['0','1','average'],'john drone ': john_drone, 'Cristin drone ': christin_drone,'john seal ': john_seal,'Cristin seal ': christin_seal}\n",
    "df = pd.DataFrame(data=d)\n",
    "print(\"Average score \\nJohn: \"+str((john_seal[-1]+john_drone[-1])/2)+\"\\nCristin: \"+str((christin_seal[-1]+christin_drone[-1])/2)+\"\")\n",
    "df"
   ]
  }
 ],
 "metadata": {
  "kernelspec": {
   "display_name": "Python 3",
   "language": "python",
   "name": "python3"
  },
  "language_info": {
   "codemirror_mode": {
    "name": "ipython",
    "version": 3
   },
   "file_extension": ".py",
   "mimetype": "text/x-python",
   "name": "python",
   "nbconvert_exporter": "python",
   "pygments_lexer": "ipython3",
   "version": "3.7.4"
  },
  "toc": {
   "base_numbering": 1,
   "nav_menu": {},
   "number_sections": true,
   "sideBar": true,
   "skip_h1_title": false,
   "title_cell": "Table of Contents",
   "title_sidebar": "Contents",
   "toc_cell": false,
   "toc_position": {},
   "toc_section_display": true,
   "toc_window_display": false
  }
 },
 "nbformat": 4,
 "nbformat_minor": 2
}
